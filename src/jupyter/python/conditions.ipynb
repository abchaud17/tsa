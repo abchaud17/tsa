{
 "cells": [
  {
   "cell_type": "markdown",
   "metadata": {
    "collapsed": true
   },
   "source": [
    "# Conditions\n",
    "\n",
    "## Introduction\n",
    "Python lacks the power, flexibility &mdash; and also the quirks &mdash; of the C++ preprocessor. It does not support conditional compilation. When implementing numerical routines, one faces the dilemma: many sanity checks are essential during the research and development phase, but introduce a prohibitive performance hit in production. Yet, some checks are also essential in production &mdash; as evidenced by the relatively recent electronic trading disasters, which they could have helped avoid.\n",
    "\n",
    "As we said, there is no conditional compilation in Python. But to some extent it may be simulated using **decorators**. We make extensive use of decorators in thalesians.tsa. One place, where they are particularly useful, is the evaluation of pre- and post-conditions.\n",
    "\n",
    "First, let us load some modules..."
   ]
  },
  {
   "cell_type": "code",
   "execution_count": 1,
   "metadata": {
    "collapsed": true
   },
   "outputs": [],
   "source": [
    "import os, sys\n",
    "sys.path.append(os.path.abspath('../../main/python'))\n",
    "from thalesians.tsa.conditions import precondition, postcondition"
   ]
  },
  {
   "cell_type": "markdown",
   "metadata": {},
   "source": [
    "## Pre- and post-conditions using decorators\n",
    "Consider the following (somewhat contrived) example:"
   ]
  },
  {
   "cell_type": "code",
   "execution_count": 2,
   "metadata": {
    "collapsed": true
   },
   "outputs": [],
   "source": [
    "class Subtractor(object):\n",
    "    @precondition(lambda self, arg1, arg2: arg1 >= 0, 'arg1 must be greater than or equal to 0')\n",
    "    @precondition(lambda self, arg1, arg2: arg2 >= 0, 'arg2 must be greater than or equal to 0')\n",
    "    @postcondition(lambda result: result >= 0, 'result must be greater than or equal to 0')\n",
    "    def subtract(self, arg1, arg2):\n",
    "        return arg1 - arg2"
   ]
  },
  {
   "cell_type": "markdown",
   "metadata": {},
   "source": [
    "(Notice how lambdas facilitate lazy evaluation. We often use them in thalesians.tsa to avoid computing things unnecessarily.)\n",
    "\n",
    "Now, the following will pass the conditions:"
   ]
  },
  {
   "cell_type": "code",
   "execution_count": 3,
   "metadata": {},
   "outputs": [
    {
     "data": {
      "text/plain": [
       "100"
      ]
     },
     "execution_count": 3,
     "metadata": {},
     "output_type": "execute_result"
    }
   ],
   "source": [
    "subtractor = Subtractor()\n",
    "subtractor.subtract(300, 200)"
   ]
  },
  {
   "cell_type": "markdown",
   "metadata": {},
   "source": [
    "Whereas the following would raise an `AssertionError`:"
   ]
  },
  {
   "cell_type": "raw",
   "metadata": {},
   "source": [
    "subtractor.subtract(-300, 200)"
   ]
  },
  {
   "cell_type": "raw",
   "metadata": {},
   "source": [
    "---------------------------------------------------------------------------\n",
    "AssertionError                            Traceback (most recent call last)\n",
    "<ipython-input-4-053f698ab95b> in <module>()\n",
    "----> 1 subtractor.subtract(-300, 200)\n",
    "\n",
    "S:\\dev\\tsa\\src\\main\\python\\thalesians\\tsa\\conditions.py in wrapper(*args, **kwargs)\n",
    "     14             def wrapper(*args, **kwargs):  # NB: No self\n",
    "     15                 if pre is not None:\n",
    "---> 16                     check(pre(*args, **kwargs), message=lambda: message, level=level)\n",
    "     17                 retval = func(*args, **kwargs)\n",
    "     18                 if post is not None:\n",
    "\n",
    "S:\\dev\\tsa\\src\\main\\python\\thalesians\\tsa\\checks.py in check(arg, message, level)\n",
    "     11             if is_callable(message):\n",
    "     12                 message = message()\n",
    "---> 13             raise AssertionError(message)\n",
    "     14 \n",
    "     15 def check_none(arg, message='Argument is not None', level=1):\n",
    "\n",
    "AssertionError: arg1 must be greater than or equal to 0"
   ]
  },
  {
   "cell_type": "markdown",
   "metadata": {},
   "source": [
    "How can we selectively enable/disable pre- and post-conditions? Notice that the decorators `precondition` and `postcondition` take the optional argument `level`, which defaults to 1. In `tsa_settings.py` we declare `MIN_PRECONDITION_LEVEL` and `MIN_POSTCONDITION_LEVEL`. They default to 1 if `__debug__` and `sys.maxsize` if not. The user can override these in a `local_tsa_settings` module of his/her project, e.g."
   ]
  },
  {
   "cell_type": "code",
   "execution_count": 4,
   "metadata": {
    "collapsed": true
   },
   "outputs": [],
   "source": [
    "MIN_PRECONDITION_LEVEL = 5\n",
    "MIN_POSTCONDITION_LEVEL = 7"
   ]
  },
  {
   "cell_type": "markdown",
   "metadata": {},
   "source": [
    "Then all the preconditions with levels strictly less than 5 and all the postconditions with levels strictly less than 7 will *not* be evaluated.\n",
    "\n",
    "We note that our implementation of conditions through decorators was inspired by J.F. Sebastian's response on http://stackoverflow.com/questions/12151182/python-precondition-postcondition-for-member-function-how"
   ]
  }
 ],
 "metadata": {
  "anaconda-cloud": {},
  "kernelspec": {
   "display_name": "Python 3",
   "language": "python",
   "name": "python3"
  },
  "language_info": {
   "codemirror_mode": {
    "name": "ipython",
    "version": 3
   },
   "file_extension": ".py",
   "mimetype": "text/x-python",
   "name": "python",
   "nbconvert_exporter": "python",
   "pygments_lexer": "ipython3",
   "version": "3.6.8"
  }
 },
 "nbformat": 4,
 "nbformat_minor": 2
}
